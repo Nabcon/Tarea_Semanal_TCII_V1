{
 "cells": [
  {
   "cell_type": "markdown",
   "id": "8f7db462",
   "metadata": {},
   "source": [
    "#### Teoría de Circuitos II\n",
    "\n",
    "# Tarea Semanal 8\n",
    "\n",
    "#### Por Nahuel Braian Contreras"
   ]
  },
  {
   "cell_type": "markdown",
   "id": "2e50c241",
   "metadata": {},
   "source": [
    "### Parte I - Ejercicio MAI\n",
    "Los cáclulos del ejercicios se realizaron en OneNote"
   ]
  },
  {
   "cell_type": "code",
   "execution_count": 15,
   "id": "72dc264d",
   "metadata": {},
   "outputs": [
    {
     "data": {
      "text/html": [
       "\n",
       "        <iframe\n",
       "            width=\"900\"\n",
       "            height=\"900\"\n",
       "            src=\"TS8_MAI.pdf\"\n",
       "            frameborder=\"0\"\n",
       "            allowfullscreen\n",
       "            \n",
       "        ></iframe>\n",
       "        "
      ],
      "text/plain": [
       "<IPython.lib.display.IFrame at 0x23d3129fd00>"
      ]
     },
     "execution_count": 15,
     "metadata": {},
     "output_type": "execute_result"
    }
   ],
   "source": [
    "from IPython.display import IFrame\n",
    "IFrame(\"TS8_MAI.pdf\", width=900, height=900)"
   ]
  },
  {
   "cell_type": "markdown",
   "id": "005c7e25",
   "metadata": {},
   "source": [
    "### Validación Circuital\n",
    "\n",
    "Simulamos el circuito de la parte I de la TS8, para corrobar que llegamos a algo coherente con lo calculado. Debido al diagrama de polos y zeros calculado, deberiamos obtener una transferencia del tipo Butterworth PasaBajo de 3 Orden.\n",
    "\n",
    "#### Circuito\n",
    "<img src=\"Circuito.png\">\n",
    "\n",
    "#### Analisis en frecuencia\n",
    "Podemos ver que obtuvimos un filtro butter pasabajo normalizado, tal como habiamos previsto. En la frecuencia de 1 Radian (159 Hz aprox.) tenemos 3db de atenuacion.\n",
    "<img src=\"Grafico.png\">"
   ]
  },
  {
   "cell_type": "markdown",
   "id": "75bdbc7d",
   "metadata": {},
   "source": [
    "### Computacion de la transferencia MAI\n",
    "\n",
    "A traves de las herramientas de simulacion computacional, podemos calcular la transferencia para verificar que es la misma que encontramos manualmente."
   ]
  },
  {
   "cell_type": "code",
   "execution_count": 14,
   "id": "27009864",
   "metadata": {},
   "outputs": [
    {
     "name": "stdout",
     "output_type": "stream",
     "text": [
      "Transferencia de tensión:\n"
     ]
    },
    {
     "data": {
      "text/latex": [
       "$\\displaystyle  [Y_{MAI}] = \\left[\\begin{matrix}Y_{L1} & - Y_{L1} & 0 & 0\\\\- Y_{L1} & Y_{C2} + Y_{L1} + Y_{L3} & - Y_{L3} & - Y_{C2}\\\\0 & - Y_{L3} & G + Y_{L3} & - G\\\\0 & - Y_{C2} & - G & G + Y_{C2}\\end{matrix}\\right]$"
      ],
      "text/plain": [
       "<IPython.core.display.Math object>"
      ]
     },
     "metadata": {},
     "output_type": "display_data"
    },
    {
     "data": {
      "text/latex": [
       "$\\displaystyle  [Y^{ 03 }_{ 23 } ] = \\left[\\begin{matrix}- Y_{L1} & 0\\\\Y_{C2} + Y_{L1} + Y_{L3} & - Y_{L3}\\end{matrix}\\right]$"
      ],
      "text/plain": [
       "<IPython.core.display.Math object>"
      ]
     },
     "metadata": {},
     "output_type": "display_data"
    },
    {
     "data": {
      "text/latex": [
       "$\\displaystyle [Y^{ 03 }_{ 03 } ] = \\left[\\begin{matrix}Y_{C2} + Y_{L1} + Y_{L3} & - Y_{L3}\\\\- Y_{L3} & G + Y_{L3}\\end{matrix}\\right]$"
      ],
      "text/plain": [
       "<IPython.core.display.Math object>"
      ]
     },
     "metadata": {},
     "output_type": "display_data"
    },
    {
     "data": {
      "text/latex": [
       "$\\displaystyle T^{ 23 }_{ 03 } = \\frac{ \\underline{Y}^{ 03 }_{ 23 } }{ \\underline{Y}^{ 03 }_{ 03 } } =  -1^{ 8 } \\frac{{ Y_{L1} Y_{L3}}}{{G Y_{C2} + G Y_{L1} + G Y_{L3} + Y_{C2} Y_{L3} + Y_{L1} Y_{L3}}} = - \\frac{Y_{L1} Y_{L3}}{G Y_{C2} + G Y_{L1} + G Y_{L3} + Y_{C2} Y_{L3} + Y_{L1} Y_{L3}}$"
      ],
      "text/plain": [
       "<IPython.core.display.Math object>"
      ]
     },
     "metadata": {},
     "output_type": "display_data"
    }
   ],
   "source": [
    "import sympy as sp\n",
    "from splane import print_latex, calc_MAI_impedance_ij, calc_MAI_vtransf_ij_mn, calc_MAI_ztransf_ij_mn\n",
    "\n",
    "'''    \n",
    "Cirucito\n",
    "        \n",
    "    0---------YL1---1--YL3---2\n",
    "                    |       |\n",
    "                   YC2      G\n",
    "                    |       |\n",
    "    3---------------+--------\n",
    "    \n",
    "'''    \n",
    "\n",
    "YL1, YL3, YC2, = sp.symbols('Y_L1 Y_L3 Y_C2', complex=True)\n",
    "G = sp.symbols('G', real=True, positive=True)\n",
    "\n",
    "# Armo la MAI\n",
    "#               Nodos: 0      1        2        3\n",
    "Ymai = sp.Matrix([  \n",
    "                    [  YL1 ,     -YL1     ,    0    ,    0   ],\n",
    "                    [ -YL1 ,  YL1+YC2+YL3 ,  -YL3   ,  -YC2  ],\n",
    "                    [   0  ,     -YL3     ,  G+YL3  ,   -G   ],\n",
    "                    [   0  ,     -YC2     ,   -G    ,  G+YC2 ]\n",
    "                 ])\n",
    "\n",
    "con_detalles = True\n",
    "\n",
    "print('Transferencia de tensión:')\n",
    "Vmai = calc_MAI_vtransf_ij_mn(Ymai, 2, 3, 0, 3, verbose=con_detalles)"
   ]
  },
  {
   "cell_type": "markdown",
   "id": "20d6db9d",
   "metadata": {},
   "source": [
    "A pesar del signo, podemos ver que la tranasferencia es la misma que la calculada."
   ]
  },
  {
   "cell_type": "code",
   "execution_count": null,
   "id": "ffa4cd11",
   "metadata": {},
   "outputs": [],
   "source": []
  }
 ],
 "metadata": {
  "kernelspec": {
   "display_name": "Python 3 (ipykernel)",
   "language": "python",
   "name": "python3"
  },
  "language_info": {
   "codemirror_mode": {
    "name": "ipython",
    "version": 3
   },
   "file_extension": ".py",
   "mimetype": "text/x-python",
   "name": "python",
   "nbconvert_exporter": "python",
   "pygments_lexer": "ipython3",
   "version": "3.9.7"
  }
 },
 "nbformat": 4,
 "nbformat_minor": 5
}
